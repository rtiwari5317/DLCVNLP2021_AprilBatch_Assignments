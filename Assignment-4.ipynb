{
 "cells": [
  {
   "cell_type": "markdown",
   "metadata": {},
   "source": [
    "1.1 Write a Python Program(with class concepts) to find the area of the triangle using the below\n",
    "formula.\n",
    "area = (s*(s-a)*(s-b)*(s-c)) ** 0.5\n",
    "Function to take the length of the sides of triangle from user should be defined in the parent\n",
    "class and function to calculate the area should be defined in subclass."
   ]
  },
  {
   "cell_type": "code",
   "execution_count": 1,
   "metadata": {},
   "outputs": [
    {
     "name": "stdout",
     "output_type": "stream",
     "text": [
      "30.0\n"
     ]
    }
   ],
   "source": [
    "class Sides():\n",
    "    \"\"\"ENTER THE SIDES OF TRIANGLE\"\"\"\n",
    "    def __init__(self,a,b,c):\n",
    "        self.a = a\n",
    "        self.b = b\n",
    "        self.c = c\n",
    "        \n",
    "class AreaofTriangle(Sides):\n",
    "    \"\"\"Calculating the Area in Sub Class\"\"\"\n",
    "    def __init__(self, a,b,c):\n",
    "        super().__init__(a,b,c)\n",
    "            \n",
    "    def area(self):\n",
    "        s = (self.a+self.b+self.c)* 0.5\n",
    "        area1 = (s*(s-self.a)*(s-self.b)*(s-self.c)) ** 0.5 \n",
    "        return area1\n",
    "    \n",
    "ar = AreaofTriangle(5,12,13)\n",
    "print(ar.area())"
   ]
  },
  {
   "cell_type": "code",
   "execution_count": null,
   "metadata": {},
   "outputs": [],
   "source": []
  },
  {
   "cell_type": "markdown",
   "metadata": {},
   "source": [
    "1.2 Write a function filter_long_words() that takes a list of words and an integer n and returns\n",
    "the list of words that are longer than n."
   ]
  },
  {
   "cell_type": "code",
   "execution_count": 2,
   "metadata": {},
   "outputs": [
    {
     "name": "stdout",
     "output_type": "stream",
     "text": [
      "['FiveSIXSEVEN']\n"
     ]
    }
   ],
   "source": [
    "def filter_long_words(input_lst,n): \n",
    "    lst = []\n",
    "    \n",
    "    for i in range(len(input_lst)):\n",
    "        if len(input_lst[i]) > n:\n",
    "            lst.append(input_lst[i])\n",
    "    \n",
    "    return lst\n",
    " \n",
    "print(filter_long_words(['One','Two','Three','Four','FiveSIXSEVEN'],9))"
   ]
  },
  {
   "cell_type": "code",
   "execution_count": null,
   "metadata": {},
   "outputs": [],
   "source": []
  },
  {
   "cell_type": "code",
   "execution_count": null,
   "metadata": {},
   "outputs": [],
   "source": []
  },
  {
   "cell_type": "markdown",
   "metadata": {},
   "source": [
    "2.1 Write a Python program using function concept that maps list of words into a list of integers\n",
    "   representing the lengths of the corresponding words.\n",
    "   Hint: If a list [ ab,cde,erty] is passed on to the python function output should come as [2,3,4]\n",
    "   Here 2,3 and 4 are the lengths of the words in the list."
   ]
  },
  {
   "cell_type": "code",
   "execution_count": 3,
   "metadata": {},
   "outputs": [
    {
     "data": {
      "text/plain": [
       "[2, 5, 10]"
      ]
     },
     "execution_count": 3,
     "metadata": {},
     "output_type": "execute_result"
    }
   ],
   "source": [
    "def word_lengths(wrd_list):\n",
    "    lengths = []\n",
    "    for i in wrd_list:\n",
    "        lengths.append(len(i))\n",
    "    return lengths\n",
    "\n",
    "word_lengths(['ab','ceede','fghyyyyyey'])"
   ]
  },
  {
   "cell_type": "code",
   "execution_count": null,
   "metadata": {},
   "outputs": [],
   "source": []
  },
  {
   "cell_type": "markdown",
   "metadata": {},
   "source": [
    "2.2 Write a Python function which takes a character (i.e. a string of length 1) and returns True if\n",
    "it is a vowel, False otherwise."
   ]
  },
  {
   "cell_type": "code",
   "execution_count": 4,
   "metadata": {},
   "outputs": [
    {
     "data": {
      "text/plain": [
       "True"
      ]
     },
     "execution_count": 4,
     "metadata": {},
     "output_type": "execute_result"
    }
   ],
   "source": [
    "def is_vowel(chr):\n",
    "    vowels = ('a', 'e', 'i', 'o', 'u')\n",
    "    if chr not in vowels:\n",
    "        return False\n",
    "    else:\n",
    "        return True\n",
    "\n",
    "is_vowel('a')"
   ]
  },
  {
   "cell_type": "code",
   "execution_count": null,
   "metadata": {},
   "outputs": [],
   "source": []
  },
  {
   "cell_type": "code",
   "execution_count": null,
   "metadata": {},
   "outputs": [],
   "source": []
  }
 ],
 "metadata": {
  "kernelspec": {
   "display_name": "Python 3",
   "language": "python",
   "name": "python3"
  },
  "language_info": {
   "codemirror_mode": {
    "name": "ipython",
    "version": 3
   },
   "file_extension": ".py",
   "mimetype": "text/x-python",
   "name": "python",
   "nbconvert_exporter": "python",
   "pygments_lexer": "ipython3",
   "version": "3.8.5"
  }
 },
 "nbformat": 4,
 "nbformat_minor": 4
}
